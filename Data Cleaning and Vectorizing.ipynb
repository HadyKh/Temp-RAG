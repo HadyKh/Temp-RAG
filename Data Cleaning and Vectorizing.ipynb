{
 "cells": [
  {
   "cell_type": "code",
   "execution_count": 1,
   "id": "40c5b0a8",
   "metadata": {},
   "outputs": [],
   "source": [
    "import warnings\n",
    "\n",
    "warnings.filterwarnings(\"ignore\")"
   ]
  },
  {
   "cell_type": "markdown",
   "id": "68fc6573",
   "metadata": {},
   "source": [
    "# Data Exploration and Cleaning"
   ]
  },
  {
   "cell_type": "code",
   "execution_count": 1,
   "id": "e8fd9224",
   "metadata": {
    "scrolled": true
   },
   "outputs": [
    {
     "data": {
      "text/html": [
       "<div>\n",
       "<style scoped>\n",
       "    .dataframe tbody tr th:only-of-type {\n",
       "        vertical-align: middle;\n",
       "    }\n",
       "\n",
       "    .dataframe tbody tr th {\n",
       "        vertical-align: top;\n",
       "    }\n",
       "\n",
       "    .dataframe thead th {\n",
       "        text-align: right;\n",
       "    }\n",
       "</style>\n",
       "<table border=\"1\" class=\"dataframe\">\n",
       "  <thead>\n",
       "    <tr style=\"text-align: right;\">\n",
       "      <th></th>\n",
       "      <th>job_title</th>\n",
       "      <th>description</th>\n",
       "      <th>requirements</th>\n",
       "      <th>career_level</th>\n",
       "    </tr>\n",
       "  </thead>\n",
       "  <tbody>\n",
       "    <tr>\n",
       "      <th>0</th>\n",
       "      <td>Senior Developer Relations Manager</td>\n",
       "      <td>&lt;p&gt;Senior Developer Relations Manager page is ...</td>\n",
       "      <td>NaN</td>\n",
       "      <td>Not specified</td>\n",
       "    </tr>\n",
       "    <tr>\n",
       "      <th>1</th>\n",
       "      <td>Costing Manager - Cairo</td>\n",
       "      <td>&lt;ul&gt;\\n&lt;li&gt;Supervise, design and implement a co...</td>\n",
       "      <td>&lt;ul&gt;\\n&lt;li&gt;Bachelor’s degree in Accounting&lt;/li&gt;...</td>\n",
       "      <td>Manager</td>\n",
       "    </tr>\n",
       "    <tr>\n",
       "      <th>2</th>\n",
       "      <td>Banquet Supervisor</td>\n",
       "      <td>Mandarin Oriental Hotel GroupMandarin Oriental...</td>\n",
       "      <td>NaN</td>\n",
       "      <td>Experienced (Non-Manager)</td>\n",
       "    </tr>\n",
       "    <tr>\n",
       "      <th>3</th>\n",
       "      <td>Trade Finance &amp; Credit Collection</td>\n",
       "      <td>&lt;p&gt;&lt;b&gt;About Us&lt;/b&gt;&lt;/p&gt;&lt;br&gt;&lt;p&gt;Alfa Laval is a l...</td>\n",
       "      <td>NaN</td>\n",
       "      <td>Not specified</td>\n",
       "    </tr>\n",
       "    <tr>\n",
       "      <th>4</th>\n",
       "      <td>Taste &amp; Wellbeing Creative Marketing Associate...</td>\n",
       "      <td>Join us and celebrate the beauty of human expe...</td>\n",
       "      <td>NaN</td>\n",
       "      <td>Not specified</td>\n",
       "    </tr>\n",
       "  </tbody>\n",
       "</table>\n",
       "</div>"
      ],
      "text/plain": [
       "                                           job_title  \\\n",
       "0                 Senior Developer Relations Manager   \n",
       "1                            Costing Manager - Cairo   \n",
       "2                                 Banquet Supervisor   \n",
       "3                  Trade Finance & Credit Collection   \n",
       "4  Taste & Wellbeing Creative Marketing Associate...   \n",
       "\n",
       "                                         description  \\\n",
       "0  <p>Senior Developer Relations Manager page is ...   \n",
       "1  <ul>\\n<li>Supervise, design and implement a co...   \n",
       "2  Mandarin Oriental Hotel GroupMandarin Oriental...   \n",
       "3  <p><b>About Us</b></p><br><p>Alfa Laval is a l...   \n",
       "4  Join us and celebrate the beauty of human expe...   \n",
       "\n",
       "                                        requirements  \\\n",
       "0                                                NaN   \n",
       "1  <ul>\\n<li>Bachelor’s degree in Accounting</li>...   \n",
       "2                                                NaN   \n",
       "3                                                NaN   \n",
       "4                                                NaN   \n",
       "\n",
       "                career_level  \n",
       "0              Not specified  \n",
       "1                    Manager  \n",
       "2  Experienced (Non-Manager)  \n",
       "3              Not specified  \n",
       "4              Not specified  "
      ]
     },
     "execution_count": 1,
     "metadata": {},
     "output_type": "execute_result"
    }
   ],
   "source": [
    "import pandas as pd\n",
    "\n",
    "jobs = pd.read_csv('sampled_jobs.csv', usecols=['job_title', 'description', 'requirements', 'career_level'])\n",
    "jobs.head()"
   ]
  },
  {
   "cell_type": "code",
   "execution_count": 3,
   "id": "50691701",
   "metadata": {
    "scrolled": true
   },
   "outputs": [
    {
     "name": "stdout",
     "output_type": "stream",
     "text": [
      "job_title: Senior Developer Relations Manager\n",
      "\n",
      "description: <p>Senior Developer Relations Manager page is loaded </p><p><b>Senior Developer Relations Manager</b></p><br><br>locationsUAE, Dubai time typeFull time posted onPosted 3 Days Ago job requisition idJR1977176 We are looking for a Senior Developer Relations Manager to lead and expand NVIDIA’s engagements with ISVs, startups, and universities in the Middle East and Africa region. This is a dynamic role responsible for forging strategic partnerships with various developer personas, guiding them to resolve their most challenging computing problems using NVIDIA’s technologies and platforms. In this position, you will serve as an NVIDIA expert in driving engagement to increase NVIDIA SDK adoption. You will play a significant role in defining use cases for NVIDIA’s products across Industry Metaverse, Computer Vision, and more. Ideal candidates will have a technical background in AL/ML, accelerated computing, computer vision, and simulation. <br><p><b>What You Will Be Doing:</b></p><br><br> Develop a rich ecosystem of strategic partners that can harness the power of NVIDIA technologies. <br> Advocate the use of NVIDIA technology stack and establish NVIDIA’s AI leadership across industry verticals. <br> Act as a technical authority on NVIDIA SDKs and frameworks. Drive NVIDIA technology integration through active partnerships. <br> Capture and synthesize feedback from the partners to drive product enhancements with NVIDIA's product management and engineering team. <br> Serve as a spokesperson, representing NVIDIA in regional strategic events such as conferences, workshops, briefings, meetups, and academic seminars. <br><p><b>What We Need To See:</b></p><br><br> M.S./Ph.D. in an engineering or computer science-related discipline (or equivalent experience). <br> 8+ years of experience. <br> Significant experience with multiple NVIDIA technologies. <br> Experience in AI/ML, Deep Learning, computer vision, simulation, and accelerated computing. <br> Experience working with industry, ideally experience working in smart city, smart manufacturing. <br> Excellent written and verbal communication skills in English and Arabic <br> Experience in speaking publicly to technical and non-technical audiences. <br> Proven ability to work collaboratively in a team environment and learn new technologies quickly. <br> Demonstrated ability to influence and work with extraordinary product and engineering teams across multiple levels in an organization. <br><p><b>Ways To Stand Out From The Crowd:</b></p><br><br> Thorough understanding of the MENA AI ecosystem, use cases, and emerging technologies. <br> Proven experience in successfully identifying emerging technical and business areas. <br>NVIDIA is widely considered to be one of the technology world’s most desirable employers. We have some of the most resourceful and hardworking people on the planet working for us. If you are creative and autonomous, we want to hear from you! You will also be eligible for equity and benefits. <p>NVIDIA accepts applications on an ongoing basis.</p><br> NVIDIA is committed to fostering a diverse work environment and is proud to be an equal-opportunity employer. As we highly value diversity in our current and future employees, we do not discriminate (including in our hiring and promotion practices) based on race, religion, color, national origin, gender, gender expression, sexual orientation, age, marital status, veteran status, disability status or any other characteristic protected by law.\n",
      "\n",
      "requirements: nan\n",
      "\n",
      "career_level: Not specified\n"
     ]
    }
   ],
   "source": [
    "# exploting data collected from a page\n",
    "\n",
    "print(f'job_title: {jobs[\"job_title\"][0]}')\n",
    "print()\n",
    "print(f'description: {jobs[\"description\"][0]}')\n",
    "print()\n",
    "print(f'requirements: {jobs[\"requirements\"][0]}')\n",
    "print()\n",
    "print(f'career_level: {jobs[\"career_level\"][0]}')"
   ]
  },
  {
   "cell_type": "markdown",
   "id": "6e0e9bf6",
   "metadata": {},
   "source": [
    "#### comment\n",
    "\n",
    "It seems the data collected still having the HTML tags. So, I will start with cleaning the description part.\n",
    "\n",
    "The cleaning process involving the following:\n",
    "- Using BeautifulSoup module to parse the HTML .\n",
    "- followed by a regex step to remove the extra space."
   ]
  },
  {
   "cell_type": "markdown",
   "id": "50834bca",
   "metadata": {},
   "source": [
    "### Data Cleaning"
   ]
  },
  {
   "cell_type": "code",
   "execution_count": 2,
   "id": "7f3f8386",
   "metadata": {
    "scrolled": true
   },
   "outputs": [
    {
     "name": "stderr",
     "output_type": "stream",
     "text": [
      "C:\\Users\\Medsoft-A2\\AppData\\Local\\Temp\\ipykernel_1076\\3015352629.py:6: MarkupResemblesLocatorWarning: The input looks more like a filename than markup. You may want to open this file and pass the filehandle into Beautiful Soup.\n",
      "  soup = BeautifulSoup(x, \"html.parser\")\n"
     ]
    },
    {
     "data": {
      "text/html": [
       "<div>\n",
       "<style scoped>\n",
       "    .dataframe tbody tr th:only-of-type {\n",
       "        vertical-align: middle;\n",
       "    }\n",
       "\n",
       "    .dataframe tbody tr th {\n",
       "        vertical-align: top;\n",
       "    }\n",
       "\n",
       "    .dataframe thead th {\n",
       "        text-align: right;\n",
       "    }\n",
       "</style>\n",
       "<table border=\"1\" class=\"dataframe\">\n",
       "  <thead>\n",
       "    <tr style=\"text-align: right;\">\n",
       "      <th></th>\n",
       "      <th>job_title</th>\n",
       "      <th>description</th>\n",
       "      <th>requirements</th>\n",
       "      <th>career_level</th>\n",
       "    </tr>\n",
       "  </thead>\n",
       "  <tbody>\n",
       "    <tr>\n",
       "      <th>0</th>\n",
       "      <td>Senior Developer Relations Manager</td>\n",
       "      <td>Senior Developer Relations Manager page is loa...</td>\n",
       "      <td>NaN</td>\n",
       "      <td>Not specified</td>\n",
       "    </tr>\n",
       "    <tr>\n",
       "      <th>1</th>\n",
       "      <td>Costing Manager - Cairo</td>\n",
       "      <td>Supervise, design and implement a consistently...</td>\n",
       "      <td>&lt;ul&gt;\\n&lt;li&gt;Bachelor’s degree in Accounting&lt;/li&gt;...</td>\n",
       "      <td>Manager</td>\n",
       "    </tr>\n",
       "    <tr>\n",
       "      <th>2</th>\n",
       "      <td>Banquet Supervisor</td>\n",
       "      <td>Mandarin Oriental Hotel GroupMandarin Oriental...</td>\n",
       "      <td>NaN</td>\n",
       "      <td>Experienced (Non-Manager)</td>\n",
       "    </tr>\n",
       "    <tr>\n",
       "      <th>3</th>\n",
       "      <td>Trade Finance &amp; Credit Collection</td>\n",
       "      <td>About Us Alfa Laval is a leading global provid...</td>\n",
       "      <td>NaN</td>\n",
       "      <td>Not specified</td>\n",
       "    </tr>\n",
       "    <tr>\n",
       "      <th>4</th>\n",
       "      <td>Taste &amp; Wellbeing Creative Marketing Associate...</td>\n",
       "      <td>Join us and celebrate the beauty of human expe...</td>\n",
       "      <td>NaN</td>\n",
       "      <td>Not specified</td>\n",
       "    </tr>\n",
       "  </tbody>\n",
       "</table>\n",
       "</div>"
      ],
      "text/plain": [
       "                                           job_title  \\\n",
       "0                 Senior Developer Relations Manager   \n",
       "1                            Costing Manager - Cairo   \n",
       "2                                 Banquet Supervisor   \n",
       "3                  Trade Finance & Credit Collection   \n",
       "4  Taste & Wellbeing Creative Marketing Associate...   \n",
       "\n",
       "                                         description  \\\n",
       "0  Senior Developer Relations Manager page is loa...   \n",
       "1  Supervise, design and implement a consistently...   \n",
       "2  Mandarin Oriental Hotel GroupMandarin Oriental...   \n",
       "3  About Us Alfa Laval is a leading global provid...   \n",
       "4  Join us and celebrate the beauty of human expe...   \n",
       "\n",
       "                                        requirements  \\\n",
       "0                                                NaN   \n",
       "1  <ul>\\n<li>Bachelor’s degree in Accounting</li>...   \n",
       "2                                                NaN   \n",
       "3                                                NaN   \n",
       "4                                                NaN   \n",
       "\n",
       "                career_level  \n",
       "0              Not specified  \n",
       "1                    Manager  \n",
       "2  Experienced (Non-Manager)  \n",
       "3              Not specified  \n",
       "4              Not specified  "
      ]
     },
     "execution_count": 2,
     "metadata": {},
     "output_type": "execute_result"
    }
   ],
   "source": [
    "from bs4 import BeautifulSoup\n",
    "import re\n",
    "\n",
    "def parse_html_description(x):\n",
    "    # Parse the HTML data using BeautifulSoup.\n",
    "    soup = BeautifulSoup(x, \"html.parser\")\n",
    "    # Get the cleaned text\n",
    "    cleaned_text = soup.get_text(separator=' ')\n",
    "    # Remove extra spaces\n",
    "    cleaned_text = re.sub(r'\\s+', ' ', cleaned_text).strip()\n",
    "    \n",
    "    return cleaned_text\n",
    "\n",
    "jobs[\"description\"] = jobs[\"description\"].apply(parse_html_description)\n",
    "\n",
    "jobs.head()"
   ]
  },
  {
   "cell_type": "markdown",
   "id": "d09483e1",
   "metadata": {},
   "source": [
    "### Create prepared column to be vectorized"
   ]
  },
  {
   "cell_type": "code",
   "execution_count": 3,
   "id": "82231950",
   "metadata": {},
   "outputs": [
    {
     "data": {
      "text/html": [
       "<div>\n",
       "<style scoped>\n",
       "    .dataframe tbody tr th:only-of-type {\n",
       "        vertical-align: middle;\n",
       "    }\n",
       "\n",
       "    .dataframe tbody tr th {\n",
       "        vertical-align: top;\n",
       "    }\n",
       "\n",
       "    .dataframe thead th {\n",
       "        text-align: right;\n",
       "    }\n",
       "</style>\n",
       "<table border=\"1\" class=\"dataframe\">\n",
       "  <thead>\n",
       "    <tr style=\"text-align: right;\">\n",
       "      <th></th>\n",
       "      <th>job_title</th>\n",
       "      <th>description</th>\n",
       "      <th>requirements</th>\n",
       "      <th>career_level</th>\n",
       "      <th>prep_title_description</th>\n",
       "    </tr>\n",
       "  </thead>\n",
       "  <tbody>\n",
       "    <tr>\n",
       "      <th>0</th>\n",
       "      <td>Senior Developer Relations Manager</td>\n",
       "      <td>Senior Developer Relations Manager page is loa...</td>\n",
       "      <td>NaN</td>\n",
       "      <td>Not specified</td>\n",
       "      <td>Senior Developer Relations Manager {title} Sen...</td>\n",
       "    </tr>\n",
       "    <tr>\n",
       "      <th>1</th>\n",
       "      <td>Costing Manager - Cairo</td>\n",
       "      <td>Supervise, design and implement a consistently...</td>\n",
       "      <td>&lt;ul&gt;\\n&lt;li&gt;Bachelor’s degree in Accounting&lt;/li&gt;...</td>\n",
       "      <td>Manager</td>\n",
       "      <td>Costing Manager - Cairo {title} Supervise, des...</td>\n",
       "    </tr>\n",
       "    <tr>\n",
       "      <th>2</th>\n",
       "      <td>Banquet Supervisor</td>\n",
       "      <td>Mandarin Oriental Hotel GroupMandarin Oriental...</td>\n",
       "      <td>NaN</td>\n",
       "      <td>Experienced (Non-Manager)</td>\n",
       "      <td>Banquet Supervisor {title} Mandarin Oriental H...</td>\n",
       "    </tr>\n",
       "    <tr>\n",
       "      <th>3</th>\n",
       "      <td>Trade Finance &amp; Credit Collection</td>\n",
       "      <td>About Us Alfa Laval is a leading global provid...</td>\n",
       "      <td>NaN</td>\n",
       "      <td>Not specified</td>\n",
       "      <td>Trade Finance &amp; Credit Collection {title} Abou...</td>\n",
       "    </tr>\n",
       "    <tr>\n",
       "      <th>4</th>\n",
       "      <td>Taste &amp; Wellbeing Creative Marketing Associate...</td>\n",
       "      <td>Join us and celebrate the beauty of human expe...</td>\n",
       "      <td>NaN</td>\n",
       "      <td>Not specified</td>\n",
       "      <td>Taste &amp; Wellbeing Creative Marketing Associate...</td>\n",
       "    </tr>\n",
       "  </tbody>\n",
       "</table>\n",
       "</div>"
      ],
      "text/plain": [
       "                                           job_title  \\\n",
       "0                 Senior Developer Relations Manager   \n",
       "1                            Costing Manager - Cairo   \n",
       "2                                 Banquet Supervisor   \n",
       "3                  Trade Finance & Credit Collection   \n",
       "4  Taste & Wellbeing Creative Marketing Associate...   \n",
       "\n",
       "                                         description  \\\n",
       "0  Senior Developer Relations Manager page is loa...   \n",
       "1  Supervise, design and implement a consistently...   \n",
       "2  Mandarin Oriental Hotel GroupMandarin Oriental...   \n",
       "3  About Us Alfa Laval is a leading global provid...   \n",
       "4  Join us and celebrate the beauty of human expe...   \n",
       "\n",
       "                                        requirements  \\\n",
       "0                                                NaN   \n",
       "1  <ul>\\n<li>Bachelor’s degree in Accounting</li>...   \n",
       "2                                                NaN   \n",
       "3                                                NaN   \n",
       "4                                                NaN   \n",
       "\n",
       "                career_level  \\\n",
       "0              Not specified   \n",
       "1                    Manager   \n",
       "2  Experienced (Non-Manager)   \n",
       "3              Not specified   \n",
       "4              Not specified   \n",
       "\n",
       "                              prep_title_description  \n",
       "0  Senior Developer Relations Manager {title} Sen...  \n",
       "1  Costing Manager - Cairo {title} Supervise, des...  \n",
       "2  Banquet Supervisor {title} Mandarin Oriental H...  \n",
       "3  Trade Finance & Credit Collection {title} Abou...  \n",
       "4  Taste & Wellbeing Creative Marketing Associate...  "
      ]
     },
     "execution_count": 3,
     "metadata": {},
     "output_type": "execute_result"
    }
   ],
   "source": [
    "jobs[\"prep_title_description\"] = jobs['job_title'] + ' {title} ' + jobs['description']\n",
    "\n",
    "jobs.head()"
   ]
  },
  {
   "cell_type": "markdown",
   "id": "5666a1b0-6cd9-44da-80de-3b41b964fd49",
   "metadata": {},
   "source": [
    "### Save preprocessed data csv file"
   ]
  },
  {
   "cell_type": "code",
   "execution_count": 4,
   "id": "3052a50e-26e2-43fe-b995-9aca919c79e4",
   "metadata": {},
   "outputs": [],
   "source": [
    "jobs.to_csv('preprocessed_jobs.csv', index=False)"
   ]
  },
  {
   "cell_type": "markdown",
   "id": "3de38ba9",
   "metadata": {},
   "source": [
    "### Get list for vectorizing"
   ]
  },
  {
   "cell_type": "code",
   "execution_count": 6,
   "id": "14c528e2",
   "metadata": {},
   "outputs": [
    {
     "name": "stdout",
     "output_type": "stream",
     "text": [
      "40000\n",
      "40000\n"
     ]
    }
   ],
   "source": [
    "prep_title_description = list(jobs[\"prep_title_description\"])\n",
    "\n",
    "print(len(prep_title_description))\n",
    "print(len(list(jobs['job_title'])))\n",
    "\n",
    "# The data is ready to be vectorized"
   ]
  },
  {
   "cell_type": "markdown",
   "id": "50aa4fae",
   "metadata": {},
   "source": [
    "### Create embedding vectors"
   ]
  },
  {
   "cell_type": "code",
   "execution_count": 7,
   "id": "0e253718",
   "metadata": {},
   "outputs": [
    {
     "name": "stdout",
     "output_type": "stream",
     "text": [
      "40\n"
     ]
    }
   ],
   "source": [
    "# Calculate number of batches\n",
    "batch_size = 1000\n",
    "num_batches = len(prep_title_description) // batch_size + (1 if len(prep_title_description) % batch_size != 0 else 0)\n",
    "print(num_batches)"
   ]
  },
  {
   "cell_type": "code",
   "execution_count": 1,
   "id": "b47bf514",
   "metadata": {},
   "outputs": [],
   "source": [
    "from tqdm import tqdm\n",
    "from sentence_transformers import SentenceTransformer\n",
    "\n",
    "embeddings = []\n",
    "\n",
    "model = SentenceTransformer(\"all-MiniLM-L6-v2\")\n",
    "\n",
    "for i in tqdm(range(num_batches), desc=\"Encoding Batches\"):\n",
    "    batch_data = prep_title_description[i * batch_size:(i + 1) * batch_size]\n",
    "    embeddings.extend(model.encode(batch_data))\n"
   ]
  },
  {
   "cell_type": "markdown",
   "id": "31a1b26a",
   "metadata": {},
   "source": [
    "### Saving embedding\n",
    "\n",
    "Embedding arre very time consuming. So, I will save them to make sure that this part run only one time"
   ]
  },
  {
   "cell_type": "code",
   "execution_count": 14,
   "id": "ac4f05f8",
   "metadata": {},
   "outputs": [],
   "source": [
    "import numpy as np\n",
    "\n",
    "# Save embeddings as a NumPy file\n",
    "np.save('embeddings.npy', embeddings)"
   ]
  },
  {
   "cell_type": "code",
   "execution_count": 15,
   "id": "af2da983-bb52-4bd2-a1d4-908cdcba837b",
   "metadata": {},
   "outputs": [
    {
     "name": "stdout",
     "output_type": "stream",
     "text": [
      "(40000, 384)\n"
     ]
    }
   ],
   "source": [
    "loaded_embeddings = np.load('embeddings.npy')\n",
    "\n",
    "print(loaded_embeddings.shape)"
   ]
  },
  {
   "cell_type": "code",
   "execution_count": null,
   "id": "77dbee17-1551-4b20-aa38-7e51ee4db638",
   "metadata": {},
   "outputs": [],
   "source": []
  }
 ],
 "metadata": {
  "kernelspec": {
   "display_name": "Python 3 (ipykernel)",
   "language": "python",
   "name": "python3"
  },
  "language_info": {
   "codemirror_mode": {
    "name": "ipython",
    "version": 3
   },
   "file_extension": ".py",
   "mimetype": "text/x-python",
   "name": "python",
   "nbconvert_exporter": "python",
   "pygments_lexer": "ipython3",
   "version": "3.10.11"
  }
 },
 "nbformat": 4,
 "nbformat_minor": 5
}
